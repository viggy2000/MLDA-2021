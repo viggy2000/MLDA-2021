{
 "cells": [
  {
   "cell_type": "code",
   "execution_count": 1,
   "id": "fresh-reader",
   "metadata": {},
   "outputs": [
    {
     "name": "stdout",
     "output_type": "stream",
     "text": [
      "117.0\n",
      "   Pregnancies  Glucose  BloodPressure  SkinThickness  Insulin   BMI  \\\n",
      "0            6    148.0           72.0           35.0     30.5  33.6   \n",
      "1            1     85.0           66.0           29.0     30.5  26.6   \n",
      "2            8    183.0           64.0           23.0     30.5  23.3   \n",
      "3            1     89.0           66.0           23.0     94.0  28.1   \n",
      "4            0    137.0           40.0           35.0    168.0  43.1   \n",
      "\n",
      "   DiabetesPedigreeFunction  Age  Outcome  \n",
      "0                     0.627   50        1  \n",
      "1                     0.351   31        0  \n",
      "2                     0.672   32        1  \n",
      "3                     0.167   21        0  \n",
      "4                     2.288   33        1  \n"
     ]
    }
   ],
   "source": [
    "import pandas as pd\n",
    "from sklearn.preprocessing import StandardScaler, LabelEncoder\n",
    "from sklearn.model_selection import train_test_split\n",
    "from collections import Counter\n",
    "from sklearn.compose import ColumnTransformer\n",
    "from tensorflow.keras.models import Sequential\n",
    "from tensorflow.keras.layers import Dense, InputLayer\n",
    "from sklearn.metrics import classification_report\n",
    "from tensorflow.keras.utils import to_categorical\n",
    "import numpy as np\n",
    "\n",
    "data = pd.read_csv(\"diabetes.csv\")\n",
    "y = data['Outcome']\n",
    "x = data[['Pregnancies', 'Glucose', 'BloodPressure', 'SkinThickness', 'Insulin', 'BMI', 'DiabetesPedigreeFunction', 'Age']]\n",
    "\n",
    "\n",
    "print(data['Glucose'].median())\n",
    "\n",
    "#Replace 0 with Mean Value\n",
    "glucose_mean = data['Glucose'].median()\n",
    "blood_pressure_mean = data['BloodPressure'].median()\n",
    "skin_mean = data['SkinThickness'].median()\n",
    "insulin_mean = data['Insulin'].median()\n",
    "bmi_mean = data['BMI'].median()\n",
    "def clean_glucose(x):\n",
    "    return glucose_mean if x==0 else x\n",
    "def clean_bloodpressure(x):\n",
    "    return blood_pressure_mean if x==0 else x\n",
    "def clean_skin(x):\n",
    "    return skin_mean if x==0 else x\n",
    "def clean_insulin(x):\n",
    "    return insulin_mean if x==0 else x\n",
    "def clean_bmi(x):\n",
    "    return bmi_mean if x==0 else x\n",
    "\n",
    "data['Glucose'] = data['Glucose'].apply(clean_glucose)\n",
    "data['BloodPressure'] = data['BloodPressure'].apply(clean_bloodpressure)\n",
    "data['SkinThickness'] = data['SkinThickness'].apply(clean_skin)\n",
    "data['Insulin'] = data['Insulin'].apply(clean_insulin)\n",
    "data['BMI'] = data['BMI'].apply(clean_bmi)\n",
    "print(data.head())\n"
   ]
  },
  {
   "cell_type": "code",
   "execution_count": 2,
   "id": "funny-verse",
   "metadata": {},
   "outputs": [],
   "source": [
    "#Convert categorical variable into dummy/indicator variables.\n",
    "x = pd.get_dummies(x)\n",
    "x_train,x_try,y_train,y_try = train_test_split(x,y,train_size=0.8,random_state=42)\n",
    "x_test,x_val,y_test,y_val = train_test_split(x_try,y_try,train_size = 0.5, random_state=42)\n",
    "#scaling and standardizing our training and test data.\n",
    "ct = ColumnTransformer([(\"numeric\", StandardScaler(),['Pregnancies', 'Glucose', 'BloodPressure', 'SkinThickness', 'Insulin', 'BMI', 'DiabetesPedigreeFunction', 'Age'])])\n",
    "x_train = ct.fit_transform(x_train)\n",
    "x_test = ct.fit_transform(x_test)\n",
    "le = LabelEncoder()\n",
    "y_train = to_categorical(le.fit_transform(y_train))\n",
    "y_test = to_categorical(le.fit_transform(y_test))"
   ]
  },
  {
   "cell_type": "code",
   "execution_count": 3,
   "id": "secondary-retreat",
   "metadata": {},
   "outputs": [
    {
     "name": "stdout",
     "output_type": "stream",
     "text": [
      "Epoch 1/11\n",
      "52/52 [==============================] - 0s 868us/step - loss: 0.5970 - accuracy: 0.6938\n",
      "Epoch 2/11\n",
      "52/52 [==============================] - 0s 556us/step - loss: 0.4939 - accuracy: 0.7590\n",
      "Epoch 3/11\n",
      "52/52 [==============================] - 0s 569us/step - loss: 0.4631 - accuracy: 0.7834\n",
      "Epoch 4/11\n",
      "52/52 [==============================] - 0s 594us/step - loss: 0.4502 - accuracy: 0.7915\n",
      "Epoch 5/11\n",
      "52/52 [==============================] - 0s 580us/step - loss: 0.4454 - accuracy: 0.7704\n",
      "Epoch 6/11\n",
      "52/52 [==============================] - 0s 599us/step - loss: 0.4347 - accuracy: 0.7915\n",
      "Epoch 7/11\n",
      "52/52 [==============================] - 0s 579us/step - loss: 0.4255 - accuracy: 0.7899\n",
      "Epoch 8/11\n",
      "52/52 [==============================] - 0s 611us/step - loss: 0.4212 - accuracy: 0.7948\n",
      "Epoch 9/11\n",
      "52/52 [==============================] - 0s 602us/step - loss: 0.4151 - accuracy: 0.8013\n",
      "Epoch 10/11\n",
      "52/52 [==============================] - 0s 594us/step - loss: 0.4065 - accuracy: 0.8029\n",
      "Epoch 11/11\n",
      "52/52 [==============================] - 0s 592us/step - loss: 0.4046 - accuracy: 0.8127\n",
      "              precision    recall  f1-score   support\n",
      "\n",
      "           0       0.81      0.81      0.81        52\n",
      "           1       0.60      0.60      0.60        25\n",
      "\n",
      "    accuracy                           0.74        77\n",
      "   macro avg       0.70      0.70      0.70        77\n",
      "weighted avg       0.74      0.74      0.74        77\n",
      "\n"
     ]
    }
   ],
   "source": [
    "#Build model\n",
    "model = Sequential()\n",
    "model.add(Dense(64,input_dim=8,activation='relu'))\n",
    "model.add(Dense(32,activation='relu'))\n",
    "model.add(Dense(2,activation='softmax'))\n",
    "model.compile(loss='binary_crossentropy',optimizer='adam',metrics=['accuracy'])\n",
    "model.fit(x_train,y_train,epochs=11,batch_size=12)\n",
    "\n",
    "y_estimate = np.argmax(model.predict(x_test),axis=1)\n",
    "y_true = np.argmax(y_test,axis=1)\n",
    "print(classification_report(y_true,y_estimate))"
   ]
  },
  {
   "cell_type": "code",
   "execution_count": 4,
   "id": "overall-joseph",
   "metadata": {},
   "outputs": [
    {
     "name": "stdout",
     "output_type": "stream",
     "text": [
      "              precision    recall  f1-score   support\n",
      "\n",
      "           0       0.78      0.85      0.82        47\n",
      "           1       0.73      0.63      0.68        30\n",
      "\n",
      "    accuracy                           0.77        77\n",
      "   macro avg       0.76      0.74      0.75        77\n",
      "weighted avg       0.76      0.77      0.76        77\n",
      "\n"
     ]
    }
   ],
   "source": [
    "x_val = ct.transform(x_val)\n",
    "y_val = to_categorical(le.transform(y_val))\n",
    "y_estimate2 = np.argmax(model.predict(x_val),axis=1)\n",
    "y_true2 = np.argmax(y_val,axis=1)\n",
    "print(classification_report(y_true2,y_estimate2))"
   ]
  },
  {
   "cell_type": "code",
   "execution_count": null,
   "id": "beneficial-reality",
   "metadata": {},
   "outputs": [],
   "source": []
  }
 ],
 "metadata": {
  "kernelspec": {
   "display_name": "Python 3",
   "language": "python",
   "name": "python3"
  },
  "language_info": {
   "codemirror_mode": {
    "name": "ipython",
    "version": 3
   },
   "file_extension": ".py",
   "mimetype": "text/x-python",
   "name": "python",
   "nbconvert_exporter": "python",
   "pygments_lexer": "ipython3",
   "version": "3.8.5"
  }
 },
 "nbformat": 4,
 "nbformat_minor": 5
}
